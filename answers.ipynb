{
 "cells": [
  {
   "cell_type": "markdown",
   "metadata": {},
   "source": [
    "# Model Prediction Task 1"
   ]
  },
  {
   "cell_type": "markdown",
   "metadata": {},
   "source": [
    "## Assumptions"
   ]
  },
  {
   "cell_type": "markdown",
   "metadata": {},
   "source": [
    "1) The dataset provided represents the sale of all residential properties in Singapore.\n",
    "2) The initial lease for all properties is 99 years.\n",
    "3) The flat_types of 1 ROOM, 2 ROOM, 3 ROOM, 4 ROOM, 5 ROOM, EXECUTIVE, MULTI-GENERATION have ascending floor areas on average, i.e., an average 4 ROOM flat is bigger than an average 3 ROOM flat.\n",
    "4) Each street_name can only be part of one town.\n",
    "5) Block numbers have no impact on property prices. \n",
    "6) Buyers can finance their property purchase with either a bank loan or a HDB housing loan, with the latter interest rate set at 0.1% above the prevailing Central Provident Fund Ordinary Account interest rate."
   ]
  },
  {
   "cell_type": "markdown",
   "metadata": {},
   "source": [
    "## Load and Preprocess Data"
   ]
  },
  {
   "cell_type": "code",
   "execution_count": 1,
   "metadata": {},
   "outputs": [],
   "source": [
    "import warnings\n",
    "import json\n",
    "import pandas as pd\n",
    "from src.model import Model\n",
    "\n",
    "warnings.filterwarnings(action=\"ignore\", category=UserWarning)\n",
    "\n",
    "model = Model(EDA=True)\n",
    "model.preprocess_data()\n",
    "df_pp = model.pp_data"
   ]
  },
  {
   "cell_type": "markdown",
   "metadata": {},
   "source": [
    "## EDA"
   ]
  },
  {
   "cell_type": "markdown",
   "metadata": {},
   "source": [
    "### Continuous Variables"
   ]
  },
  {
   "cell_type": "markdown",
   "metadata": {},
   "source": [
    "#### Year"
   ]
  },
  {
   "cell_type": "code",
   "execution_count": 2,
   "metadata": {},
   "outputs": [
    {
     "data": {
      "text/html": [
       "\n",
       "        <iframe\n",
       "            width=\"100%\"\n",
       "            height=\"650\"\n",
       "            src=\"http://127.0.0.1:8050/\"\n",
       "            frameborder=\"0\"\n",
       "            allowfullscreen\n",
       "            \n",
       "        ></iframe>\n",
       "        "
      ],
      "text/plain": [
       "<IPython.lib.display.IFrame at 0x26749ae85f0>"
      ]
     },
     "metadata": {},
     "output_type": "display_data"
    },
    {
     "name": "stdout",
     "output_type": "stream",
     "text": [
      "Dash app running on http://127.0.0.1:8050/\n"
     ]
    }
   ],
   "source": [
    "from jupyter_dash import JupyterDash\n",
    "from dash import dcc, html\n",
    "from dash.dependencies import Input, Output\n",
    "import plotly.express as px\n",
    "\n",
    "df_plot_data = df_pp.groupby(\"year\").agg({\"resale_price\": \"mean\"}).reset_index()\n",
    "fig = px.line(df_plot_data, x=\"year\", y=\"resale_price\", title=\"Mean resale prices over time.\")\n",
    "\n",
    "flat_type_options = list(df_pp.flat_type.unique())\n",
    "flat_type_options.sort()\n",
    "town_options = list(df_pp.town.unique())\n",
    "town_options.sort()\n",
    "\n",
    "# Initialise the Jupyter Dash app\n",
    "app = JupyterDash(__name__)\n",
    "\n",
    "# Define the app layout\n",
    "app.layout = html.Div([\n",
    "    html.Div([\n",
    "        dcc.Dropdown(\n",
    "            id=\"aggregation_type\",\n",
    "            options=[{\"label\": i.capitalize() + \" resale price aggregation\", \"value\": i} for i in [\"mean\", \"median\"] ],\n",
    "            value=\"mean\"\n",
    "        )\n",
    "    ], style={\"display\": \"inline-block\", \"width\": \"32%\", \"padding\": \"0 0px\"}),\n",
    "\n",
    "    html.Div([\n",
    "        dcc.Dropdown(\n",
    "            id=\"flat_type\",\n",
    "            options=[{\"label\": i, \"value\": i} for i in [\"All flat types\"] + flat_type_options],\n",
    "            value=\"All flat types\"\n",
    "        )\n",
    "    ], style={\"display\": \"inline-block\", \"width\": \"32%\", \"padding\": \"0 10px\"}),\n",
    "\n",
    "    html.Div([\n",
    "        dcc.Dropdown(\n",
    "            id=\"town\",\n",
    "            options=[{\"label\": i, \"value\": i} for i in [\"All towns\"] + town_options],\n",
    "            value=\"All towns\"\n",
    "        )\n",
    "    ], style={\"display\": \"inline-block\", \"width\": \"32%\", \"padding\": \"0 0px\"}),\n",
    "    dcc.Graph(id=\"line-chart\", figure=fig),\n",
    "])\n",
    "\n",
    "@app.callback(\n",
    "    Output(\"line-chart\", \"figure\"),\n",
    "    [Input(\"aggregation_type\", \"value\"),\n",
    "     Input(\"flat_type\", \"value\"),\n",
    "     Input(\"town\", \"value\")]\n",
    ")\n",
    "def update_chart(selected_aggregation_type, selected_flat_type, selected_town):\n",
    "    if selected_flat_type == \"All flat types\":\n",
    "        filtered_data = df_pp\n",
    "    else:\n",
    "        filtered_data = df_pp[df_pp[\"flat_type\"] == selected_flat_type]\n",
    "    if selected_town != \"All towns\":\n",
    "        filtered_data = filtered_data[filtered_data[\"town\"] == selected_town]\n",
    "    filtered_data = filtered_data.groupby(\"year\").agg({\"resale_price\": selected_aggregation_type}).reset_index()\n",
    "    fig = px.line(filtered_data, x=\"year\", y=\"resale_price\", title=f\"{selected_aggregation_type.capitalize()} resale prices over the years for {selected_flat_type} in {selected_town}.\")\n",
    "    return fig\n",
    "\n",
    "if __name__ == \"__main__\":\n",
    "    app.run_server(port=8050, debug=True)"
   ]
  },
  {
   "cell_type": "markdown",
   "metadata": {},
   "source": [
    "#### Others"
   ]
  },
  {
   "cell_type": "code",
   "execution_count": 3,
   "metadata": {},
   "outputs": [
    {
     "data": {
      "text/html": [
       "<div>\n",
       "<style scoped>\n",
       "    .dataframe tbody tr th:only-of-type {\n",
       "        vertical-align: middle;\n",
       "    }\n",
       "\n",
       "    .dataframe tbody tr th {\n",
       "        vertical-align: top;\n",
       "    }\n",
       "\n",
       "    .dataframe thead th {\n",
       "        text-align: right;\n",
       "    }\n",
       "</style>\n",
       "<table border=\"1\" class=\"dataframe\">\n",
       "  <thead>\n",
       "    <tr style=\"text-align: right;\">\n",
       "      <th></th>\n",
       "      <th>resale_price_pearson</th>\n",
       "      <th>resale_price_spearman</th>\n",
       "    </tr>\n",
       "  </thead>\n",
       "  <tbody>\n",
       "    <tr>\n",
       "      <th>floor_area_sqm</th>\n",
       "      <td>0.625</td>\n",
       "      <td>0.656</td>\n",
       "    </tr>\n",
       "    <tr>\n",
       "      <th>year</th>\n",
       "      <td>0.605</td>\n",
       "      <td>0.598</td>\n",
       "    </tr>\n",
       "    <tr>\n",
       "      <th>storey</th>\n",
       "      <td>0.212</td>\n",
       "      <td>0.130</td>\n",
       "    </tr>\n",
       "    <tr>\n",
       "      <th>remaining_lease</th>\n",
       "      <td>-0.013</td>\n",
       "      <td>0.036</td>\n",
       "    </tr>\n",
       "  </tbody>\n",
       "</table>\n",
       "</div>"
      ],
      "text/plain": [
       "                 resale_price_pearson  resale_price_spearman\n",
       "floor_area_sqm                  0.625                  0.656\n",
       "year                            0.605                  0.598\n",
       "storey                          0.212                  0.130\n",
       "remaining_lease                -0.013                  0.036"
      ]
     },
     "execution_count": 3,
     "metadata": {},
     "output_type": "execute_result"
    }
   ],
   "source": [
    "df_corr = pd.DataFrame()\n",
    "\n",
    "for corr_coef in [\"pearson\", \"spearman\"]: # Measure of linearity | strength and direction of monotonicity \n",
    "    df_corr_ = df_pp[[\"year\", \"floor_area_sqm\", \"remaining_lease\", \"storey\", \"resale_price\"]].corr(method=corr_coef)[[\"resale_price\"]].rename({\"resale_price\": f\"resale_price_{corr_coef}\"}, axis=1).iloc[:-1]\n",
    "    df_corr = pd.concat([df_corr, df_corr_], axis=1)\n",
    "\n",
    "round(df_corr.sort_values(by=\"resale_price_pearson\", ascending=False), 3)"
   ]
  },
  {
   "cell_type": "markdown",
   "metadata": {},
   "source": [
    "#### Observations"
   ]
  },
  {
   "cell_type": "markdown",
   "metadata": {},
   "source": [
    "1) Resale prices were observed to increase over the years both visually and statistically (Pearson and Spearman Rank correlation coefficients of 0.604 and 0.598 respectively). This observation is consistent with inflation. Therefore, a similar unit to one sold today is likely to sell for more in the future.\n",
    "2) Floor area was observed to be positively correlated to resale prices based on both the Person and Spearman Rank correlation coefficients of 0.625 and 0.656 respectively. Therefore, resale prices can be expected to increase as the floor area of the property increases.\n",
    "3) The remaining lease on the property at the time of sale and the floor level of the property were not observed to have a significant correlation with resale prices.\n",
    "\n",
    "The continuous variables ```year``` and ```floor_area_sqm``` are likely to be important features for resale price prediction."
   ]
  },
  {
   "cell_type": "markdown",
   "metadata": {},
   "source": [
    "### Categorical Variables"
   ]
  },
  {
   "cell_type": "code",
   "execution_count": 4,
   "metadata": {},
   "outputs": [
    {
     "data": {
      "text/html": [
       "\n",
       "        <iframe\n",
       "            width=\"100%\"\n",
       "            height=\"650\"\n",
       "            src=\"http://127.0.0.1:8051/\"\n",
       "            frameborder=\"0\"\n",
       "            allowfullscreen\n",
       "            \n",
       "        ></iframe>\n",
       "        "
      ],
      "text/plain": [
       "<IPython.lib.display.IFrame at 0x26747c2b560>"
      ]
     },
     "metadata": {},
     "output_type": "display_data"
    },
    {
     "name": "stdout",
     "output_type": "stream",
     "text": [
      "Dash app running on http://127.0.0.1:8051/\n"
     ]
    }
   ],
   "source": [
    "df_plot_2_data = df_pp.groupby(\"town\").agg({\"resale_price\": \"mean\"}).reset_index()\n",
    "fig2 = px.bar(df_plot_2_data, x=\"town\", y=\"resale_price\", title=\"Mean resale prices by town.\")\n",
    "cat_var_options = [\"town\", \"flat_type\", \"flat_model\", \"street_name\"]\n",
    "\n",
    "# Initialise the Dash app\n",
    "app2 = JupyterDash(__name__)\n",
    "\n",
    "# Define the app layout\n",
    "app2.layout = html.Div([\n",
    "    html.Div([\n",
    "        dcc.Dropdown(\n",
    "            id=\"aggregation_type\",\n",
    "            options=[{\"label\": i.capitalize() + \" resale price aggregation\", \"value\": i} for i in [\"mean\", \"median\"] ],\n",
    "            value=\"mean\"\n",
    "        )\n",
    "    ], style={\"display\": \"inline-block\", \"width\": \"32%\", \"padding\": \"0 0px\"}),\n",
    "\n",
    "    html.Div([\n",
    "        dcc.Dropdown(\n",
    "            id=\"cat_var\",\n",
    "            options=[{\"label\": f\"Sales by {i}\", \"value\": i} for i in cat_var_options],\n",
    "            value=\"town\"\n",
    "        )\n",
    "    ], style={\"display\": \"inline-block\", \"width\": \"32%\", \"padding\": \"0 10px\"}),\n",
    "    dcc.Graph(id=\"line-chart\", figure=fig2),\n",
    "])\n",
    "\n",
    "@app2.callback(\n",
    "    Output(\"line-chart\", \"figure\"),\n",
    "    [Input(\"aggregation_type\", \"value\"),\n",
    "     Input(\"cat_var\", \"value\")]\n",
    ")\n",
    "def update_chart(selected_aggregation_type, selected_cat_var):\n",
    "    filtered_data = df_pp.groupby(selected_cat_var).agg({\"resale_price\": selected_aggregation_type}).reset_index()\n",
    "    fig2 = px.bar(filtered_data, x=selected_cat_var, y=\"resale_price\", title=f\"{selected_aggregation_type.capitalize()} resale prices by {selected_cat_var}.\")\n",
    "    return fig2\n",
    "\n",
    "if __name__ == \"__main__\":\n",
    "    app2.run_server(port=8051, debug=True)"
   ]
  },
  {
   "cell_type": "markdown",
   "metadata": {},
   "source": [
    "#### Flat Model and Flat Type"
   ]
  },
  {
   "cell_type": "code",
   "execution_count": 5,
   "metadata": {},
   "outputs": [
    {
     "data": {
      "text/html": [
       "<div>\n",
       "<style scoped>\n",
       "    .dataframe tbody tr th:only-of-type {\n",
       "        vertical-align: middle;\n",
       "    }\n",
       "\n",
       "    .dataframe tbody tr th {\n",
       "        vertical-align: top;\n",
       "    }\n",
       "\n",
       "    .dataframe thead th {\n",
       "        text-align: right;\n",
       "    }\n",
       "</style>\n",
       "<table border=\"1\" class=\"dataframe\">\n",
       "  <thead>\n",
       "    <tr style=\"text-align: right;\">\n",
       "      <th></th>\n",
       "      <th></th>\n",
       "      <th>count</th>\n",
       "    </tr>\n",
       "    <tr>\n",
       "      <th>flat_model</th>\n",
       "      <th>flat_type</th>\n",
       "      <th></th>\n",
       "    </tr>\n",
       "  </thead>\n",
       "  <tbody>\n",
       "    <tr>\n",
       "      <th>2-ROOM</th>\n",
       "      <th>2 ROOM</th>\n",
       "      <td>40</td>\n",
       "    </tr>\n",
       "    <tr>\n",
       "      <th rowspan=\"4\" valign=\"top\">ADJOINED FLAT</th>\n",
       "      <th>3 ROOM</th>\n",
       "      <td>2</td>\n",
       "    </tr>\n",
       "    <tr>\n",
       "      <th>4 ROOM</th>\n",
       "      <td>164</td>\n",
       "    </tr>\n",
       "    <tr>\n",
       "      <th>5 ROOM</th>\n",
       "      <td>602</td>\n",
       "    </tr>\n",
       "    <tr>\n",
       "      <th>EXECUTIVE</th>\n",
       "      <td>317</td>\n",
       "    </tr>\n",
       "    <tr>\n",
       "      <th>APARTMENT</th>\n",
       "      <th>EXECUTIVE</th>\n",
       "      <td>32004</td>\n",
       "    </tr>\n",
       "    <tr>\n",
       "      <th rowspan=\"4\" valign=\"top\">DBSS</th>\n",
       "      <th>2 ROOM</th>\n",
       "      <td>1</td>\n",
       "    </tr>\n",
       "    <tr>\n",
       "      <th>3 ROOM</th>\n",
       "      <td>156</td>\n",
       "    </tr>\n",
       "    <tr>\n",
       "      <th>4 ROOM</th>\n",
       "      <td>549</td>\n",
       "    </tr>\n",
       "    <tr>\n",
       "      <th>5 ROOM</th>\n",
       "      <td>903</td>\n",
       "    </tr>\n",
       "    <tr>\n",
       "      <th rowspan=\"5\" valign=\"top\">IMPROVED</th>\n",
       "      <th>1 ROOM</th>\n",
       "      <td>1273</td>\n",
       "    </tr>\n",
       "    <tr>\n",
       "      <th>2 ROOM</th>\n",
       "      <td>2523</td>\n",
       "    </tr>\n",
       "    <tr>\n",
       "      <th>3 ROOM</th>\n",
       "      <td>75806</td>\n",
       "    </tr>\n",
       "    <tr>\n",
       "      <th>4 ROOM</th>\n",
       "      <td>13476</td>\n",
       "    </tr>\n",
       "    <tr>\n",
       "      <th>5 ROOM</th>\n",
       "      <td>124278</td>\n",
       "    </tr>\n",
       "    <tr>\n",
       "      <th>IMPROVED-MAISONETTE</th>\n",
       "      <th>5 ROOM</th>\n",
       "      <td>114</td>\n",
       "    </tr>\n",
       "    <tr>\n",
       "      <th>MAISONETTE</th>\n",
       "      <th>EXECUTIVE</th>\n",
       "      <td>26909</td>\n",
       "    </tr>\n",
       "    <tr>\n",
       "      <th rowspan=\"4\" valign=\"top\">MODEL A</th>\n",
       "      <th>2 ROOM</th>\n",
       "      <td>789</td>\n",
       "    </tr>\n",
       "    <tr>\n",
       "      <th>3 ROOM</th>\n",
       "      <td>46664</td>\n",
       "    </tr>\n",
       "    <tr>\n",
       "      <th>4 ROOM</th>\n",
       "      <td>165547</td>\n",
       "    </tr>\n",
       "    <tr>\n",
       "      <th>5 ROOM</th>\n",
       "      <td>15389</td>\n",
       "    </tr>\n",
       "    <tr>\n",
       "      <th>MODEL A-MAISONETTE</th>\n",
       "      <th>5 ROOM</th>\n",
       "      <td>1889</td>\n",
       "    </tr>\n",
       "    <tr>\n",
       "      <th>MODEL A2</th>\n",
       "      <th>4 ROOM</th>\n",
       "      <td>9109</td>\n",
       "    </tr>\n",
       "    <tr>\n",
       "      <th>MULTI GENERATION</th>\n",
       "      <th>MULTI-GENERATION</th>\n",
       "      <td>502</td>\n",
       "    </tr>\n",
       "    <tr>\n",
       "      <th rowspan=\"2\" valign=\"top\">NEW GENERATION</th>\n",
       "      <th>3 ROOM</th>\n",
       "      <td>116017</td>\n",
       "    </tr>\n",
       "    <tr>\n",
       "      <th>4 ROOM</th>\n",
       "      <td>61553</td>\n",
       "    </tr>\n",
       "    <tr>\n",
       "      <th rowspan=\"5\" valign=\"top\">PREMIUM APARTMENT</th>\n",
       "      <th>2 ROOM</th>\n",
       "      <td>48</td>\n",
       "    </tr>\n",
       "    <tr>\n",
       "      <th>3 ROOM</th>\n",
       "      <td>365</td>\n",
       "    </tr>\n",
       "    <tr>\n",
       "      <th>4 ROOM</th>\n",
       "      <td>17134</td>\n",
       "    </tr>\n",
       "    <tr>\n",
       "      <th>5 ROOM</th>\n",
       "      <td>14159</td>\n",
       "    </tr>\n",
       "    <tr>\n",
       "      <th>EXECUTIVE</th>\n",
       "      <td>3329</td>\n",
       "    </tr>\n",
       "    <tr>\n",
       "      <th rowspan=\"2\" valign=\"top\">PREMIUM APARTMENT LOFT</th>\n",
       "      <th>4 ROOM</th>\n",
       "      <td>17</td>\n",
       "    </tr>\n",
       "    <tr>\n",
       "      <th>5 ROOM</th>\n",
       "      <td>14</td>\n",
       "    </tr>\n",
       "    <tr>\n",
       "      <th>PREMIUM MAISONETTE</th>\n",
       "      <th>EXECUTIVE</th>\n",
       "      <td>82</td>\n",
       "    </tr>\n",
       "    <tr>\n",
       "      <th rowspan=\"2\" valign=\"top\">SIMPLIFIED</th>\n",
       "      <th>3 ROOM</th>\n",
       "      <td>13159</td>\n",
       "    </tr>\n",
       "    <tr>\n",
       "      <th>4 ROOM</th>\n",
       "      <td>40801</td>\n",
       "    </tr>\n",
       "    <tr>\n",
       "      <th rowspan=\"4\" valign=\"top\">STANDARD</th>\n",
       "      <th>2 ROOM</th>\n",
       "      <td>6462</td>\n",
       "    </tr>\n",
       "    <tr>\n",
       "      <th>3 ROOM</th>\n",
       "      <td>19832</td>\n",
       "    </tr>\n",
       "    <tr>\n",
       "      <th>4 ROOM</th>\n",
       "      <td>629</td>\n",
       "    </tr>\n",
       "    <tr>\n",
       "      <th>5 ROOM</th>\n",
       "      <td>12931</td>\n",
       "    </tr>\n",
       "    <tr>\n",
       "      <th rowspan=\"2\" valign=\"top\">TERRACE</th>\n",
       "      <th>3 ROOM</th>\n",
       "      <td>579</td>\n",
       "    </tr>\n",
       "    <tr>\n",
       "      <th>4 ROOM</th>\n",
       "      <td>63</td>\n",
       "    </tr>\n",
       "    <tr>\n",
       "      <th>TYPE S1</th>\n",
       "      <th>4 ROOM</th>\n",
       "      <td>272</td>\n",
       "    </tr>\n",
       "    <tr>\n",
       "      <th>TYPE S2</th>\n",
       "      <th>5 ROOM</th>\n",
       "      <td>129</td>\n",
       "    </tr>\n",
       "  </tbody>\n",
       "</table>\n",
       "</div>"
      ],
      "text/plain": [
       "                                          count\n",
       "flat_model             flat_type               \n",
       "2-ROOM                 2 ROOM                40\n",
       "ADJOINED FLAT          3 ROOM                 2\n",
       "                       4 ROOM               164\n",
       "                       5 ROOM               602\n",
       "                       EXECUTIVE            317\n",
       "APARTMENT              EXECUTIVE          32004\n",
       "DBSS                   2 ROOM                 1\n",
       "                       3 ROOM               156\n",
       "                       4 ROOM               549\n",
       "                       5 ROOM               903\n",
       "IMPROVED               1 ROOM              1273\n",
       "                       2 ROOM              2523\n",
       "                       3 ROOM             75806\n",
       "                       4 ROOM             13476\n",
       "                       5 ROOM            124278\n",
       "IMPROVED-MAISONETTE    5 ROOM               114\n",
       "MAISONETTE             EXECUTIVE          26909\n",
       "MODEL A                2 ROOM               789\n",
       "                       3 ROOM             46664\n",
       "                       4 ROOM            165547\n",
       "                       5 ROOM             15389\n",
       "MODEL A-MAISONETTE     5 ROOM              1889\n",
       "MODEL A2               4 ROOM              9109\n",
       "MULTI GENERATION       MULTI-GENERATION     502\n",
       "NEW GENERATION         3 ROOM            116017\n",
       "                       4 ROOM             61553\n",
       "PREMIUM APARTMENT      2 ROOM                48\n",
       "                       3 ROOM               365\n",
       "                       4 ROOM             17134\n",
       "                       5 ROOM             14159\n",
       "                       EXECUTIVE           3329\n",
       "PREMIUM APARTMENT LOFT 4 ROOM                17\n",
       "                       5 ROOM                14\n",
       "PREMIUM MAISONETTE     EXECUTIVE             82\n",
       "SIMPLIFIED             3 ROOM             13159\n",
       "                       4 ROOM             40801\n",
       "STANDARD               2 ROOM              6462\n",
       "                       3 ROOM             19832\n",
       "                       4 ROOM               629\n",
       "                       5 ROOM             12931\n",
       "TERRACE                3 ROOM               579\n",
       "                       4 ROOM                63\n",
       "TYPE S1                4 ROOM               272\n",
       "TYPE S2                5 ROOM               129"
      ]
     },
     "execution_count": 5,
     "metadata": {},
     "output_type": "execute_result"
    }
   ],
   "source": [
    "cat_col_pair = [\"flat_model\", \"flat_type\"]\n",
    "\n",
    "pd.DataFrame(df_pp[cat_col_pair].value_counts()).reset_index().sort_values(by=cat_col_pair).set_index(cat_col_pair)"
   ]
  },
  {
   "cell_type": "code",
   "execution_count": 6,
   "metadata": {},
   "outputs": [
    {
     "name": "stdout",
     "output_type": "stream",
     "text": [
      "Number of unique flat models: 20.\n",
      "Number of unique flat types: 7.\n"
     ]
    }
   ],
   "source": [
    "unique_flat_models = len(df_pp[\"flat_model\"].unique())\n",
    "unique_flat_types = len(df_pp[\"flat_type\"].unique())\n",
    "\n",
    "print(f\"Number of unique flat models: {unique_flat_models}.\\nNumber of unique flat types: {unique_flat_types}.\")"
   ]
  },
  {
   "cell_type": "markdown",
   "metadata": {},
   "source": [
    "#### Town and Street Name"
   ]
  },
  {
   "cell_type": "code",
   "execution_count": 7,
   "metadata": {},
   "outputs": [
    {
     "name": "stdout",
     "output_type": "stream",
     "text": [
      "Number of unique towns: 27.\n",
      "Number of unique street names: 568.\n"
     ]
    }
   ],
   "source": [
    "unique_towns = len(df_pp[\"town\"].unique())\n",
    "unique_street_names = len(df_pp[\"street_name\"].unique())\n",
    "\n",
    "print(f\"Number of unique towns: {unique_towns}.\\nNumber of unique street names: {unique_street_names}.\")"
   ]
  },
  {
   "cell_type": "markdown",
   "metadata": {},
   "source": [
    "#### Observations"
   ]
  },
  {
   "cell_type": "markdown",
   "metadata": {},
   "source": [
    "**Flat Model and Flat Type**\n",
    "- Both variables were visually observed to have some influence on resale prices. However, the influence of flat type appeared to be more pronounced than flat model.\n",
    "- The number of unique flat types of 7 is smaller than the number of unique flat models at 20. \n",
    "- It was observed that one flat model, e.g., 'IMPROVED' can be attributed to multiple flat types. \n",
    "\n",
    "As it is assumed that the flat type conveys more specific information on the size of the property (and the subsequent resale price) compared to the flat model, it is postulated that ```flat_type``` will be an important predictor of resale prices while ```flat_model``` is likely not an important predictor.\n",
    "\n",
    "**Town and Street Name**\n",
    "- Both variables were visually observed to have some influence on resale prices.\n",
    "- It was observed that the number of unique street names of 568 far outnumbered the number of unique towns of 27. \n",
    "\n",
    "It was observed that resale prices were influenced by location. However, as it is assumed that each street name is part of one town, the much larger number of street names is likely to result in ```street_name``` being a much less important predictor of resale prices compared to ```town```."
   ]
  },
  {
   "cell_type": "markdown",
   "metadata": {},
   "source": [
    "## Model Evaluation"
   ]
  },
  {
   "cell_type": "code",
   "execution_count": 8,
   "metadata": {},
   "outputs": [
    {
     "name": "stdout",
     "output_type": "stream",
     "text": [
      "{'TRAIN_MAPE': 0.06279472569184753, 'TEST_MAPE': 0.05762537169215347}\n"
     ]
    }
   ],
   "source": [
    "with open(\"artifacts/model_metadata.json\", \"rb\") as f:\n",
    "    model_metadata = json.load(f)\n",
    "    eval_metrics = model_metadata[\"EVAL_METRICS\"]\n",
    "    feature_importances = model_metadata[\"FEATURE_IMPORTANCES\"]\n",
    "\n",
    "print(eval_metrics)"
   ]
  },
  {
   "cell_type": "markdown",
   "metadata": {},
   "source": [
    "The mean absolute percentage error (MAPE) for the test set was 5.8%. This means that across the entire test set, the predicted resale price was, on average, within +- 5.8% of the actual resale price."
   ]
  },
  {
   "cell_type": "markdown",
   "metadata": {},
   "source": [
    "## Model Interpretation"
   ]
  },
  {
   "cell_type": "markdown",
   "metadata": {},
   "source": [
    "### Feature Explanation"
   ]
  },
  {
   "cell_type": "markdown",
   "metadata": {},
   "source": [
    "The model predicts resale price based on the following input features:\n",
    "\n",
    "1) year\n",
    "    - The calendar year during which the sale occurred.\n",
    "2) floor_area_sqm\n",
    "    - The floor area of the property in square metres.\n",
    "3) flat_type \n",
    "    - The flat type, e.g., 1 ROOM. It is assumed that the flat type has a direct impact on the floor area of the property.\n",
    "4) town\n",
    "    - Town that the property was located in, e.g., BUKIT TIMAH\n",
    "5) street_name\n",
    "    - Street Name that the property was located on, e.g., PINE CL. It is assumed that each street name can only be part of one town.\n",
    "6) flat_model\n",
    "    - The flat model, e.g., IMPROVED.\n",
    "7) remaining_lease\n",
    "    - The number of years remaining on the lease at the time of the sale. The initial lease is assumed to be 99 years.\n",
    "8) storey\n",
    "    - The approximate floor level of the property, averaged from the range provided. E.g., 04 TO 06 will be converted to a floor level of 5."
   ]
  },
  {
   "cell_type": "markdown",
   "metadata": {},
   "source": [
    "### Feature Importance"
   ]
  },
  {
   "cell_type": "markdown",
   "metadata": {},
   "source": [
    "#### Overall"
   ]
  },
  {
   "cell_type": "code",
   "execution_count": 9,
   "metadata": {},
   "outputs": [
    {
     "data": {
      "text/html": [
       "<div>\n",
       "<style scoped>\n",
       "    .dataframe tbody tr th:only-of-type {\n",
       "        vertical-align: middle;\n",
       "    }\n",
       "\n",
       "    .dataframe tbody tr th {\n",
       "        vertical-align: top;\n",
       "    }\n",
       "\n",
       "    .dataframe thead th {\n",
       "        text-align: right;\n",
       "    }\n",
       "</style>\n",
       "<table border=\"1\" class=\"dataframe\">\n",
       "  <thead>\n",
       "    <tr style=\"text-align: right;\">\n",
       "      <th></th>\n",
       "      <th>Feature</th>\n",
       "      <th>Importance (%)</th>\n",
       "    </tr>\n",
       "  </thead>\n",
       "  <tbody>\n",
       "    <tr>\n",
       "      <th>0</th>\n",
       "      <td>year</td>\n",
       "      <td>34.993531</td>\n",
       "    </tr>\n",
       "    <tr>\n",
       "      <th>1</th>\n",
       "      <td>floor_area_sqm</td>\n",
       "      <td>21.301286</td>\n",
       "    </tr>\n",
       "    <tr>\n",
       "      <th>2</th>\n",
       "      <td>flat_type</td>\n",
       "      <td>15.359727</td>\n",
       "    </tr>\n",
       "    <tr>\n",
       "      <th>3</th>\n",
       "      <td>town</td>\n",
       "      <td>14.343640</td>\n",
       "    </tr>\n",
       "    <tr>\n",
       "      <th>4</th>\n",
       "      <td>street_name</td>\n",
       "      <td>4.257389</td>\n",
       "    </tr>\n",
       "    <tr>\n",
       "      <th>5</th>\n",
       "      <td>flat_model</td>\n",
       "      <td>3.430442</td>\n",
       "    </tr>\n",
       "    <tr>\n",
       "      <th>6</th>\n",
       "      <td>remaining_lease</td>\n",
       "      <td>3.400329</td>\n",
       "    </tr>\n",
       "    <tr>\n",
       "      <th>7</th>\n",
       "      <td>storey</td>\n",
       "      <td>2.913657</td>\n",
       "    </tr>\n",
       "  </tbody>\n",
       "</table>\n",
       "</div>"
      ],
      "text/plain": [
       "           Feature  Importance (%)\n",
       "0             year       34.993531\n",
       "1   floor_area_sqm       21.301286\n",
       "2        flat_type       15.359727\n",
       "3             town       14.343640\n",
       "4      street_name        4.257389\n",
       "5       flat_model        3.430442\n",
       "6  remaining_lease        3.400329\n",
       "7           storey        2.913657"
      ]
     },
     "execution_count": 9,
     "metadata": {},
     "output_type": "execute_result"
    }
   ],
   "source": [
    "df_feat_imp = pd.DataFrame(feature_importances, index=[\"Importance (%)\"]).T.reset_index().rename({\"index\": \"Feature\"}, axis=1)\n",
    "df_feat_imp"
   ]
  },
  {
   "cell_type": "code",
   "execution_count": 10,
   "metadata": {},
   "outputs": [
    {
     "data": {
      "application/vnd.plotly.v1+json": {
       "config": {
        "plotlyServerURL": "https://plot.ly"
       },
       "data": [
        {
         "hovertemplate": "Feature=%{x}<br>Importance (%)=%{y}<extra></extra>",
         "legendgroup": "",
         "marker": {
          "color": "#636efa",
          "pattern": {
           "shape": ""
          }
         },
         "name": "",
         "orientation": "v",
         "showlegend": false,
         "textposition": "auto",
         "type": "bar",
         "x": [
          "year",
          "floor_area_sqm",
          "flat_type",
          "town",
          "street_name",
          "flat_model",
          "remaining_lease",
          "storey"
         ],
         "xaxis": "x",
         "y": {
          "bdata": "ffuXBCx/QUD0DCMSIU01QCOgaBguuC5AREFehvGvLEA43JzxkAcRQC3NpnOLcQtA2YzA7d8zC0BGSatlK08HQA==",
          "dtype": "f8"
         },
         "yaxis": "y"
        }
       ],
       "layout": {
        "barmode": "relative",
        "legend": {
         "tracegroupgap": 0
        },
        "margin": {
         "t": 60
        },
        "template": {
         "data": {
          "bar": [
           {
            "error_x": {
             "color": "#2a3f5f"
            },
            "error_y": {
             "color": "#2a3f5f"
            },
            "marker": {
             "line": {
              "color": "#E5ECF6",
              "width": 0.5
             },
             "pattern": {
              "fillmode": "overlay",
              "size": 10,
              "solidity": 0.2
             }
            },
            "type": "bar"
           }
          ],
          "barpolar": [
           {
            "marker": {
             "line": {
              "color": "#E5ECF6",
              "width": 0.5
             },
             "pattern": {
              "fillmode": "overlay",
              "size": 10,
              "solidity": 0.2
             }
            },
            "type": "barpolar"
           }
          ],
          "carpet": [
           {
            "aaxis": {
             "endlinecolor": "#2a3f5f",
             "gridcolor": "white",
             "linecolor": "white",
             "minorgridcolor": "white",
             "startlinecolor": "#2a3f5f"
            },
            "baxis": {
             "endlinecolor": "#2a3f5f",
             "gridcolor": "white",
             "linecolor": "white",
             "minorgridcolor": "white",
             "startlinecolor": "#2a3f5f"
            },
            "type": "carpet"
           }
          ],
          "choropleth": [
           {
            "colorbar": {
             "outlinewidth": 0,
             "ticks": ""
            },
            "type": "choropleth"
           }
          ],
          "contour": [
           {
            "colorbar": {
             "outlinewidth": 0,
             "ticks": ""
            },
            "colorscale": [
             [
              0,
              "#0d0887"
             ],
             [
              0.1111111111111111,
              "#46039f"
             ],
             [
              0.2222222222222222,
              "#7201a8"
             ],
             [
              0.3333333333333333,
              "#9c179e"
             ],
             [
              0.4444444444444444,
              "#bd3786"
             ],
             [
              0.5555555555555556,
              "#d8576b"
             ],
             [
              0.6666666666666666,
              "#ed7953"
             ],
             [
              0.7777777777777778,
              "#fb9f3a"
             ],
             [
              0.8888888888888888,
              "#fdca26"
             ],
             [
              1,
              "#f0f921"
             ]
            ],
            "type": "contour"
           }
          ],
          "contourcarpet": [
           {
            "colorbar": {
             "outlinewidth": 0,
             "ticks": ""
            },
            "type": "contourcarpet"
           }
          ],
          "heatmap": [
           {
            "colorbar": {
             "outlinewidth": 0,
             "ticks": ""
            },
            "colorscale": [
             [
              0,
              "#0d0887"
             ],
             [
              0.1111111111111111,
              "#46039f"
             ],
             [
              0.2222222222222222,
              "#7201a8"
             ],
             [
              0.3333333333333333,
              "#9c179e"
             ],
             [
              0.4444444444444444,
              "#bd3786"
             ],
             [
              0.5555555555555556,
              "#d8576b"
             ],
             [
              0.6666666666666666,
              "#ed7953"
             ],
             [
              0.7777777777777778,
              "#fb9f3a"
             ],
             [
              0.8888888888888888,
              "#fdca26"
             ],
             [
              1,
              "#f0f921"
             ]
            ],
            "type": "heatmap"
           }
          ],
          "histogram": [
           {
            "marker": {
             "pattern": {
              "fillmode": "overlay",
              "size": 10,
              "solidity": 0.2
             }
            },
            "type": "histogram"
           }
          ],
          "histogram2d": [
           {
            "colorbar": {
             "outlinewidth": 0,
             "ticks": ""
            },
            "colorscale": [
             [
              0,
              "#0d0887"
             ],
             [
              0.1111111111111111,
              "#46039f"
             ],
             [
              0.2222222222222222,
              "#7201a8"
             ],
             [
              0.3333333333333333,
              "#9c179e"
             ],
             [
              0.4444444444444444,
              "#bd3786"
             ],
             [
              0.5555555555555556,
              "#d8576b"
             ],
             [
              0.6666666666666666,
              "#ed7953"
             ],
             [
              0.7777777777777778,
              "#fb9f3a"
             ],
             [
              0.8888888888888888,
              "#fdca26"
             ],
             [
              1,
              "#f0f921"
             ]
            ],
            "type": "histogram2d"
           }
          ],
          "histogram2dcontour": [
           {
            "colorbar": {
             "outlinewidth": 0,
             "ticks": ""
            },
            "colorscale": [
             [
              0,
              "#0d0887"
             ],
             [
              0.1111111111111111,
              "#46039f"
             ],
             [
              0.2222222222222222,
              "#7201a8"
             ],
             [
              0.3333333333333333,
              "#9c179e"
             ],
             [
              0.4444444444444444,
              "#bd3786"
             ],
             [
              0.5555555555555556,
              "#d8576b"
             ],
             [
              0.6666666666666666,
              "#ed7953"
             ],
             [
              0.7777777777777778,
              "#fb9f3a"
             ],
             [
              0.8888888888888888,
              "#fdca26"
             ],
             [
              1,
              "#f0f921"
             ]
            ],
            "type": "histogram2dcontour"
           }
          ],
          "mesh3d": [
           {
            "colorbar": {
             "outlinewidth": 0,
             "ticks": ""
            },
            "type": "mesh3d"
           }
          ],
          "parcoords": [
           {
            "line": {
             "colorbar": {
              "outlinewidth": 0,
              "ticks": ""
             }
            },
            "type": "parcoords"
           }
          ],
          "pie": [
           {
            "automargin": true,
            "type": "pie"
           }
          ],
          "scatter": [
           {
            "fillpattern": {
             "fillmode": "overlay",
             "size": 10,
             "solidity": 0.2
            },
            "type": "scatter"
           }
          ],
          "scatter3d": [
           {
            "line": {
             "colorbar": {
              "outlinewidth": 0,
              "ticks": ""
             }
            },
            "marker": {
             "colorbar": {
              "outlinewidth": 0,
              "ticks": ""
             }
            },
            "type": "scatter3d"
           }
          ],
          "scattercarpet": [
           {
            "marker": {
             "colorbar": {
              "outlinewidth": 0,
              "ticks": ""
             }
            },
            "type": "scattercarpet"
           }
          ],
          "scattergeo": [
           {
            "marker": {
             "colorbar": {
              "outlinewidth": 0,
              "ticks": ""
             }
            },
            "type": "scattergeo"
           }
          ],
          "scattergl": [
           {
            "marker": {
             "colorbar": {
              "outlinewidth": 0,
              "ticks": ""
             }
            },
            "type": "scattergl"
           }
          ],
          "scattermap": [
           {
            "marker": {
             "colorbar": {
              "outlinewidth": 0,
              "ticks": ""
             }
            },
            "type": "scattermap"
           }
          ],
          "scattermapbox": [
           {
            "marker": {
             "colorbar": {
              "outlinewidth": 0,
              "ticks": ""
             }
            },
            "type": "scattermapbox"
           }
          ],
          "scatterpolar": [
           {
            "marker": {
             "colorbar": {
              "outlinewidth": 0,
              "ticks": ""
             }
            },
            "type": "scatterpolar"
           }
          ],
          "scatterpolargl": [
           {
            "marker": {
             "colorbar": {
              "outlinewidth": 0,
              "ticks": ""
             }
            },
            "type": "scatterpolargl"
           }
          ],
          "scatterternary": [
           {
            "marker": {
             "colorbar": {
              "outlinewidth": 0,
              "ticks": ""
             }
            },
            "type": "scatterternary"
           }
          ],
          "surface": [
           {
            "colorbar": {
             "outlinewidth": 0,
             "ticks": ""
            },
            "colorscale": [
             [
              0,
              "#0d0887"
             ],
             [
              0.1111111111111111,
              "#46039f"
             ],
             [
              0.2222222222222222,
              "#7201a8"
             ],
             [
              0.3333333333333333,
              "#9c179e"
             ],
             [
              0.4444444444444444,
              "#bd3786"
             ],
             [
              0.5555555555555556,
              "#d8576b"
             ],
             [
              0.6666666666666666,
              "#ed7953"
             ],
             [
              0.7777777777777778,
              "#fb9f3a"
             ],
             [
              0.8888888888888888,
              "#fdca26"
             ],
             [
              1,
              "#f0f921"
             ]
            ],
            "type": "surface"
           }
          ],
          "table": [
           {
            "cells": {
             "fill": {
              "color": "#EBF0F8"
             },
             "line": {
              "color": "white"
             }
            },
            "header": {
             "fill": {
              "color": "#C8D4E3"
             },
             "line": {
              "color": "white"
             }
            },
            "type": "table"
           }
          ]
         },
         "layout": {
          "annotationdefaults": {
           "arrowcolor": "#2a3f5f",
           "arrowhead": 0,
           "arrowwidth": 1
          },
          "autotypenumbers": "strict",
          "coloraxis": {
           "colorbar": {
            "outlinewidth": 0,
            "ticks": ""
           }
          },
          "colorscale": {
           "diverging": [
            [
             0,
             "#8e0152"
            ],
            [
             0.1,
             "#c51b7d"
            ],
            [
             0.2,
             "#de77ae"
            ],
            [
             0.3,
             "#f1b6da"
            ],
            [
             0.4,
             "#fde0ef"
            ],
            [
             0.5,
             "#f7f7f7"
            ],
            [
             0.6,
             "#e6f5d0"
            ],
            [
             0.7,
             "#b8e186"
            ],
            [
             0.8,
             "#7fbc41"
            ],
            [
             0.9,
             "#4d9221"
            ],
            [
             1,
             "#276419"
            ]
           ],
           "sequential": [
            [
             0,
             "#0d0887"
            ],
            [
             0.1111111111111111,
             "#46039f"
            ],
            [
             0.2222222222222222,
             "#7201a8"
            ],
            [
             0.3333333333333333,
             "#9c179e"
            ],
            [
             0.4444444444444444,
             "#bd3786"
            ],
            [
             0.5555555555555556,
             "#d8576b"
            ],
            [
             0.6666666666666666,
             "#ed7953"
            ],
            [
             0.7777777777777778,
             "#fb9f3a"
            ],
            [
             0.8888888888888888,
             "#fdca26"
            ],
            [
             1,
             "#f0f921"
            ]
           ],
           "sequentialminus": [
            [
             0,
             "#0d0887"
            ],
            [
             0.1111111111111111,
             "#46039f"
            ],
            [
             0.2222222222222222,
             "#7201a8"
            ],
            [
             0.3333333333333333,
             "#9c179e"
            ],
            [
             0.4444444444444444,
             "#bd3786"
            ],
            [
             0.5555555555555556,
             "#d8576b"
            ],
            [
             0.6666666666666666,
             "#ed7953"
            ],
            [
             0.7777777777777778,
             "#fb9f3a"
            ],
            [
             0.8888888888888888,
             "#fdca26"
            ],
            [
             1,
             "#f0f921"
            ]
           ]
          },
          "colorway": [
           "#636efa",
           "#EF553B",
           "#00cc96",
           "#ab63fa",
           "#FFA15A",
           "#19d3f3",
           "#FF6692",
           "#B6E880",
           "#FF97FF",
           "#FECB52"
          ],
          "font": {
           "color": "#2a3f5f"
          },
          "geo": {
           "bgcolor": "white",
           "lakecolor": "white",
           "landcolor": "#E5ECF6",
           "showlakes": true,
           "showland": true,
           "subunitcolor": "white"
          },
          "hoverlabel": {
           "align": "left"
          },
          "hovermode": "closest",
          "mapbox": {
           "style": "light"
          },
          "paper_bgcolor": "white",
          "plot_bgcolor": "#E5ECF6",
          "polar": {
           "angularaxis": {
            "gridcolor": "white",
            "linecolor": "white",
            "ticks": ""
           },
           "bgcolor": "#E5ECF6",
           "radialaxis": {
            "gridcolor": "white",
            "linecolor": "white",
            "ticks": ""
           }
          },
          "scene": {
           "xaxis": {
            "backgroundcolor": "#E5ECF6",
            "gridcolor": "white",
            "gridwidth": 2,
            "linecolor": "white",
            "showbackground": true,
            "ticks": "",
            "zerolinecolor": "white"
           },
           "yaxis": {
            "backgroundcolor": "#E5ECF6",
            "gridcolor": "white",
            "gridwidth": 2,
            "linecolor": "white",
            "showbackground": true,
            "ticks": "",
            "zerolinecolor": "white"
           },
           "zaxis": {
            "backgroundcolor": "#E5ECF6",
            "gridcolor": "white",
            "gridwidth": 2,
            "linecolor": "white",
            "showbackground": true,
            "ticks": "",
            "zerolinecolor": "white"
           }
          },
          "shapedefaults": {
           "line": {
            "color": "#2a3f5f"
           }
          },
          "ternary": {
           "aaxis": {
            "gridcolor": "white",
            "linecolor": "white",
            "ticks": ""
           },
           "baxis": {
            "gridcolor": "white",
            "linecolor": "white",
            "ticks": ""
           },
           "bgcolor": "#E5ECF6",
           "caxis": {
            "gridcolor": "white",
            "linecolor": "white",
            "ticks": ""
           }
          },
          "title": {
           "x": 0.05
          },
          "xaxis": {
           "automargin": true,
           "gridcolor": "white",
           "linecolor": "white",
           "ticks": "",
           "title": {
            "standoff": 15
           },
           "zerolinecolor": "white",
           "zerolinewidth": 2
          },
          "yaxis": {
           "automargin": true,
           "gridcolor": "white",
           "linecolor": "white",
           "ticks": "",
           "title": {
            "standoff": 15
           },
           "zerolinecolor": "white",
           "zerolinewidth": 2
          }
         }
        },
        "xaxis": {
         "anchor": "y",
         "domain": [
          0,
          1
         ],
         "title": {
          "text": "Feature"
         }
        },
        "yaxis": {
         "anchor": "x",
         "domain": [
          0,
          1
         ],
         "title": {
          "text": "Importance (%)"
         }
        }
       }
      }
     },
     "metadata": {},
     "output_type": "display_data"
    }
   ],
   "source": [
    "\n",
    "feat_imp_plot = px.bar(df_feat_imp, x=\"Feature\", y=\"Importance (%)\")\n",
    "feat_imp_plot.show()"
   ]
  },
  {
   "cell_type": "code",
   "execution_count": 11,
   "metadata": {},
   "outputs": [
    {
     "data": {
      "text/plain": [
       "85.99818293528062"
      ]
     },
     "execution_count": 11,
     "metadata": {},
     "output_type": "execute_result"
    }
   ],
   "source": [
    "top_4_feat_imp = df_feat_imp.iloc[0:4][\"Importance (%)\"].sum()\n",
    "top_4_feat_imp"
   ]
  },
  {
   "cell_type": "markdown",
   "metadata": {},
   "source": [
    "The top 4 most important features of year, floor_area_sqm, flat_type and town had an overwhelming impact of 86% on the predictions, with the remaining 14% split between street_name, flat_model, remaining_lease and story. Of the top 4 most important features, year stood out as the most important feature at 35%, 13.7%-points higher than the next most important feature of floor_area_sqm at 21.3%. flat_type and town had similar feature importances at 15.4% and 14.3% respectively."
   ]
  },
  {
   "cell_type": "markdown",
   "metadata": {},
   "source": [
    "#### Random Example"
   ]
  },
  {
   "cell_type": "code",
   "execution_count": 12,
   "metadata": {},
   "outputs": [
    {
     "data": {
      "text/html": [
       "<div>\n",
       "<style scoped>\n",
       "    .dataframe tbody tr th:only-of-type {\n",
       "        vertical-align: middle;\n",
       "    }\n",
       "\n",
       "    .dataframe tbody tr th {\n",
       "        vertical-align: top;\n",
       "    }\n",
       "\n",
       "    .dataframe thead th {\n",
       "        text-align: right;\n",
       "    }\n",
       "</style>\n",
       "<table border=\"1\" class=\"dataframe\">\n",
       "  <thead>\n",
       "    <tr style=\"text-align: right;\">\n",
       "      <th></th>\n",
       "      <th>TEST_DATA</th>\n",
       "      <th>SHAP_VALUES</th>\n",
       "    </tr>\n",
       "  </thead>\n",
       "  <tbody>\n",
       "    <tr>\n",
       "      <th>year</th>\n",
       "      <td>2019</td>\n",
       "      <td>110171.63</td>\n",
       "    </tr>\n",
       "    <tr>\n",
       "      <th>storey</th>\n",
       "      <td>20.0</td>\n",
       "      <td>38783.29</td>\n",
       "    </tr>\n",
       "    <tr>\n",
       "      <th>floor_area_sqm</th>\n",
       "      <td>96.0</td>\n",
       "      <td>-21593.55</td>\n",
       "    </tr>\n",
       "    <tr>\n",
       "      <th>flat_model</th>\n",
       "      <td>PREMIUM APARTMENT</td>\n",
       "      <td>17904.82</td>\n",
       "    </tr>\n",
       "    <tr>\n",
       "      <th>street_name</th>\n",
       "      <td>FERNVALE RD</td>\n",
       "      <td>10822.86</td>\n",
       "    </tr>\n",
       "    <tr>\n",
       "      <th>town</th>\n",
       "      <td>SENGKANG</td>\n",
       "      <td>-9045.65</td>\n",
       "    </tr>\n",
       "    <tr>\n",
       "      <th>remaining_lease</th>\n",
       "      <td>92</td>\n",
       "      <td>3858.23</td>\n",
       "    </tr>\n",
       "    <tr>\n",
       "      <th>flat_type</th>\n",
       "      <td>4 ROOM</td>\n",
       "      <td>-2144.01</td>\n",
       "    </tr>\n",
       "  </tbody>\n",
       "</table>\n",
       "</div>"
      ],
      "text/plain": [
       "                         TEST_DATA  SHAP_VALUES\n",
       "year                          2019    110171.63\n",
       "storey                        20.0     38783.29\n",
       "floor_area_sqm                96.0    -21593.55\n",
       "flat_model       PREMIUM APARTMENT     17904.82\n",
       "street_name            FERNVALE RD     10822.86\n",
       "town                      SENGKANG     -9045.65\n",
       "remaining_lease                 92      3858.23\n",
       "flat_type                   4 ROOM     -2144.01"
      ]
     },
     "execution_count": 12,
     "metadata": {},
     "output_type": "execute_result"
    }
   ],
   "source": [
    "import shap\n",
    "\n",
    "# Load model\n",
    "model.evaluate(\"model.pkl\")\n",
    "\n",
    "# Initialise SHAP explainer\n",
    "explainer = shap.Explainer(model.model)\n",
    "\n",
    "# Calculate SHAP values\n",
    "shap_values = explainer.shap_values(model.X_test)\n",
    "\n",
    "# Extract SHAP values for a sample test set row and display the values alongside the data\n",
    "sample_test_set_row_idx = 32\n",
    "sample_test_set_row = model.X_test.iloc[sample_test_set_row_idx:sample_test_set_row_idx+1].T\n",
    "sample_test_set_row[\"SHAP_VALUES\"] = shap_values[sample_test_set_row_idx]\n",
    "sample_test_set_row[\"SHAP_VALUES\"] = round(sample_test_set_row[\"SHAP_VALUES\"], 2)\n",
    "sample_test_set_row = sample_test_set_row.sort_values(by=\"SHAP_VALUES\", key=lambda x: abs(x), ascending=False)\n",
    "sample_test_set_row = sample_test_set_row.rename({sample_test_set_row.columns[0]: \"TEST_DATA\"}, axis=1)\n",
    "sample_test_set_row"
   ]
  },
  {
   "cell_type": "markdown",
   "metadata": {},
   "source": [
    "In the test set sample above, the sale year had a greatest positive influence on the predicted resale price which is consistent with expectations of inflation and the sale year of 2019, which is recent in comparison to the training data, which stopped at 2018. The storey also had a positive influence on the resale price as the value of 20 indicates that the flat is on a high floor which generally commands a higher sale price. The floor area had the greatest negative impact on the resale price as the floor area of 96 sq metres is relatively small and smaller properties are generally less expensive."
   ]
  },
  {
   "cell_type": "markdown",
   "metadata": {},
   "source": [
    "## Model Selection"
   ]
  },
  {
   "cell_type": "markdown",
   "metadata": {},
   "source": [
    "**Selection of a gradient boosted tree-based model**\n",
    "- Linear models:\n",
    "    - Advantages:\n",
    "        1) Simple to interpret\n",
    "        2) Computationally efficient to train\n",
    "    - Disadvantages: \n",
    "        1) Assumes linearity between features and target\n",
    "        2) May underfit complex data.\n",
    "\n",
    "- Gradient boosted tree-based models:\n",
    "    - Advantages:\n",
    "        1) Can handle complex data and model non-linear relationships\n",
    "        2) High predictive accuracy\n",
    "        3) Provides feature importance insights\n",
    "    - Disadvantages:\n",
    "        1) Computationally more expensive to train compared to linear models\n",
    "        2) Requires careful hyperparameter tuning to avoid overfitting\n",
    "    \n",
    "- Deep learning models:\n",
    "    - Advantages:\n",
    "        1) Can handle complex data and model non-linear relationships\n",
    "        2) High predictive accuracy, potentially higher than that of gradient boosted tree-based models\n",
    "    - Disadvantages:\n",
    "        1) Limited interpretability\n",
    "        2) Requires large datasets for training\n",
    "        3) Requires careful hyperparameter tuning to avoid overfitting\n",
    "        4) Much more computationally expensive to train compared to gradient boosted tree-based models, particularly if GPUs are unavailable \n",
    "\n",
    "Therefore, a gradient boosted tree-based model was chosen because all three of its listed advantages were requirements; the requirement to model non-linear relationships and high predictive accuracy precluded linear models, while the requirement of feature importances would preclude deep learning models. In addition, the lack of GPUs for model training would further make deep learning models challenging to train. While gradient boosed tree-based models are more computationally expensive to train relative to linear models, the time required to train a CatBoost model (a gradient boosed tree-based model) is reasonable, with a typical non-GPU accelerated training duration of under one hour based on the training configurations of this study."
   ]
  },
  {
   "cell_type": "markdown",
   "metadata": {},
   "source": [
    "**Selection of CatBoost**\n",
    "\n",
    "- CatBoost was selected as the gradient boosted tree-based model of choice for the following reasons:\n",
    "    1) It provides feature importance scores for model interpretability\n",
    "    2) Efficient handling of categorical features with target encoding and ordered boosting\n",
    "        - Ordered boosting is necessary to prevent data leakage\n",
    "\n",
    "While CatBoost models are generally fast to train, they can still be slower to train relative compared to other gradient boosted tree-based models like LightGBM. However, the training duration for CatBoost remains reasonable as outlined above."
   ]
  },
  {
   "cell_type": "markdown",
   "metadata": {},
   "source": [
    "# Model Prediction Task 2"
   ]
  },
  {
   "cell_type": "markdown",
   "metadata": {},
   "source": [
    "**Factors and Considerations**\n",
    "\n",
    "- Access to updated data\n",
    "    - When building predictive models, it is important to continually have access to updated data so that the model may be retrained periodically to ensure that recent trends are captured in the prediction.\n",
    "        - This is particularly important if the prediction has a temporal component, as observed in the toy example where the model correctly identified the sale year as an important feature in predicting resale prices. Since the model can only learn from what it has seen in the training data, providing updated data is critical in maintaining the accuracy of the predictions.\n",
    "\n",
    "- Ease of model retraining\n",
    "    - As the model will need to be retrained periodically, model retraining should take a reasonable amount of resources to prevent cost overruns.\n",
    "\n",
    "- User understanding and acceptance of accuracy metrics\n",
    "    - Efforts should be made to get users of the predictive model to understand and accept the accuracy metrics used for model evaluation.\n",
    "        - In the toy example, MAPE was used as the main accuracy metric for model evaluation. However, if users wished for an accuracy metric of number of predicted prices within +-$5,000 of the actual resale price, efforts will have to be made to explain why MAPE is a more suitable metric, e.g., $5,000 out of a $1,000,000 resale price is a very small margin of error as compared to a $10,000 resale price.\n",
    "\n",
    "- Predictive model consumption\n",
    "    - Model inference should take a reasonable amount of time to ensure a good user experience.\n",
    "    - Efforts should be made to discuss with users their requirements on how the predictive model is to be consumed, with the projected manpower and technology costs taken into consideration.\n",
    "        - In the toy example, if the users wished to generate resale price predictions on the go within a web app, a web-based front-end will need to be developed, with the predictive model hosted on the cloud and the necessary REST API(s) developed for model inference."
   ]
  }
 ],
 "metadata": {
  "kernelspec": {
   "display_name": ".venv",
   "language": "python",
   "name": "python3"
  },
  "language_info": {
   "codemirror_mode": {
    "name": "ipython",
    "version": 3
   },
   "file_extension": ".py",
   "mimetype": "text/x-python",
   "name": "python",
   "nbconvert_exporter": "python",
   "pygments_lexer": "ipython3",
   "version": "3.12.1"
  }
 },
 "nbformat": 4,
 "nbformat_minor": 2
}
